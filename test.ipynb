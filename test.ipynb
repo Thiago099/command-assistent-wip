{
 "cells": [
  {
   "cell_type": "code",
   "execution_count": 28,
   "metadata": {},
   "outputs": [
    {
     "name": "stdout",
     "output_type": "stream",
     "text": [
      "The predicted intent of 'call mom' is 'call_mom' with a confidence of -0.4784514760900003\n"
     ]
    }
   ],
   "source": [
    "\n",
    "#pip install scikit-learn\n",
    "import pandas as pd\n",
    "from sklearn.feature_extraction.text import TfidfVectorizer\n",
    "from sklearn.svm import LinearSVC\n",
    "\n",
    "# Load the training data into a pandas DataFrame\n",
    "train_data = pd.DataFrame({\n",
    "    \"text\": [\n",
    "        \"turn off my computer\",\n",
    "        \"shut down the computer\",\n",
    "        \"power off the pc\",\n",
    "        \"switch off the laptop\",\n",
    "        \"turn off the device\",\n",
    "        \"call my mom\",\n",
    "    ],\n",
    "    \"intent\": [\n",
    "        \"computer_turn_off\",\n",
    "        \"computer_turn_off\",\n",
    "        \"computer_turn_off\",\n",
    "        \"computer_turn_off\",\n",
    "        \"computer_turn_off\",\n",
    "        \"call_mom\",\n",
    "    ],\n",
    "})\n",
    "\n",
    "# Create the feature representation of the training data using TfidfVectorizer\n",
    "vectorizer = TfidfVectorizer()\n",
    "X_train = vectorizer.fit_transform(train_data[\"text\"])\n",
    "y_train = train_data[\"intent\"]\n",
    "\n",
    "# Train a linear SVM classifier\n",
    "classifier = LinearSVC()\n",
    "classifier.fit(X_train, y_train)\n",
    "\n",
    "# Predict the intent of a new text input\n",
    "new_input = \"call mom\"\n",
    "new_input_vector = vectorizer.transform([new_input])\n",
    "predicted_intent = classifier.predict(new_input_vector)[0]\n",
    "confidence = classifier.decision_function(new_input_vector)[0]\n",
    "\n",
    "print(f\"The predicted intent of '{new_input}' is '{predicted_intent}' with a confidence of {confidence}\")\n"
   ]
  },
  {
   "cell_type": "code",
   "execution_count": null,
   "metadata": {},
   "outputs": [],
   "source": []
  }
 ],
 "metadata": {
  "kernelspec": {
   "display_name": "Python 3",
   "language": "python",
   "name": "python3"
  },
  "language_info": {
   "codemirror_mode": {
    "name": "ipython",
    "version": 3
   },
   "file_extension": ".py",
   "mimetype": "text/x-python",
   "name": "python",
   "nbconvert_exporter": "python",
   "pygments_lexer": "ipython3",
   "version": "3.10.9"
  },
  "orig_nbformat": 4,
  "vscode": {
   "interpreter": {
    "hash": "131380195fafccd30ff0bc86cc585b2763f386cd5296bd3c2eff353ed7523022"
   }
  }
 },
 "nbformat": 4,
 "nbformat_minor": 2
}
